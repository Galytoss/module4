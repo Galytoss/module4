{
  "nbformat": 4,
  "nbformat_minor": 0,
  "metadata": {
    "kernelspec": {
      "display_name": "Python 3 (ipykernel)",
      "language": "python",
      "name": "python3"
    },
    "language_info": {
      "codemirror_mode": {
        "name": "ipython",
        "version": 3
      },
      "file_extension": ".py",
      "mimetype": "text/x-python",
      "name": "python",
      "nbconvert_exporter": "python",
      "pygments_lexer": "ipython3",
      "version": "3.8.11"
    },
    "colab": {
      "name": "Module4_Pose_Estimation_Curl_Counter.ipynb",
      "provenance": [],
      "include_colab_link": true
    }
  },
  "cells": [
    {
      "cell_type": "markdown",
      "metadata": {
        "id": "view-in-github",
        "colab_type": "text"
      },
      "source": [
        "<a href=\"https://colab.research.google.com/github/Galytoss/module4/blob/main/Module4_Pose_Estimation_Curl_Counter.ipynb\" target=\"_parent\"><img src=\"https://colab.research.google.com/assets/colab-badge.svg\" alt=\"Open In Colab\"/></a>"
      ]
    },
    {
      "cell_type": "markdown",
      "metadata": {
        "id": "qEFRVgt5u14f"
      },
      "source": [
        "mediapipe: https://google.github.io/mediapipe/  \n",
        "\n",
        "opencv tutorial: https://opencv-python.readthedocs.io/en/latest/doc/01.imageStart/imageStart.html  \n",
        "\n",
        "original code source: https://github.com/nicknochnack/MediaPipePoseEstimation/blob/main/Media%20Pipe%20Pose%20Tutorial.ipynb"
      ]
    },
    {
      "cell_type": "markdown",
      "metadata": {
        "id": "AOU-48GEu14i"
      },
      "source": [
        "# 0. Install and Import Dependencies"
      ]
    },
    {
      "cell_type": "code",
      "metadata": {
        "id": "x3AUK0e-u14j"
      },
      "source": [
        "!pip install mediapipe opencv-python"
      ],
      "execution_count": null,
      "outputs": []
    },
    {
      "cell_type": "code",
      "metadata": {
        "id": "cdBAdZnvu14k"
      },
      "source": [
        "import cv2\n",
        "import mediapipe as mp\n",
        "import numpy as np\n",
        "\n",
        "mp_drawing = mp.solutions.drawing_utils\n",
        "mp_pose = mp.solutions.pose"
      ],
      "execution_count": null,
      "outputs": []
    },
    {
      "cell_type": "code",
      "metadata": {
        "id": "0Lxe4TYVu14l"
      },
      "source": [
        "# VIDEO FEED\n",
        "cap = cv2.VideoCapture(0)\n",
        "\n",
        "while cap.isOpened():\n",
        "    ret, frame = cap.read()\n",
        "    cv2.imshow('Mediapipe Feed', frame)\n",
        "    \n",
        "    if cv2.waitKey(10) & 0xFF == ord('q'):\n",
        "        break\n",
        "        \n",
        "cap.release()\n",
        "cv2.destroyAllWindows()"
      ],
      "execution_count": null,
      "outputs": []
    },
    {
      "cell_type": "markdown",
      "metadata": {
        "id": "M1-PSBvtu14l"
      },
      "source": [
        "# 1. Make Detections"
      ]
    },
    {
      "cell_type": "code",
      "metadata": {
        "id": "mTTPZnDNu14m"
      },
      "source": [
        "cap = cv2.VideoCapture(0)\n",
        "\n",
        "## Setup mediapipe instance\n",
        "with mp_pose.Pose(min_detection_confidence=0.5, min_tracking_confidence=0.5) as pose:\n",
        "    while cap.isOpened():\n",
        "        ret, frame = cap.read()\n",
        "        \n",
        "        # Recolor image to RGB\n",
        "        image = cv2.cvtColor(frame, cv2.COLOR_BGR2RGB)\n",
        "        image.flags.writeable = False\n",
        "      \n",
        "        # Make detection\n",
        "        results = pose.process(image)\n",
        "    \n",
        "        # Recolor back to BGR\n",
        "        image.flags.writeable = True\n",
        "        image = cv2.cvtColor(image, cv2.COLOR_RGB2BGR)\n",
        "        \n",
        "        # Render detections\n",
        "        mp_drawing.draw_landmarks(image, results.pose_landmarks, mp_pose.POSE_CONNECTIONS,\n",
        "                                  mp_drawing.DrawingSpec(color=(245,117,66), thickness=2, circle_radius=2), \n",
        "                                  mp_drawing.DrawingSpec(color=(245,66,230), thickness=2, circle_radius=2))               \n",
        "        \n",
        "        cv2.imshow('Pose Estimation', image)\n",
        "\n",
        "        if cv2.waitKey(10) & 0xFF == ord('q'):\n",
        "            break\n",
        "\n",
        "    cap.release()\n",
        "    cv2.destroyAllWindows()"
      ],
      "execution_count": null,
      "outputs": []
    },
    {
      "cell_type": "markdown",
      "metadata": {
        "id": "BtLp0Wn-u14n"
      },
      "source": [
        "# 2. Determining Joints"
      ]
    },
    {
      "cell_type": "markdown",
      "metadata": {
        "id": "bLDgFkSiu14o"
      },
      "source": [
        "<img src=\"https://i.imgur.com/3j8BPdc.png\" style=\"height:300px\" >"
      ]
    },
    {
      "cell_type": "code",
      "metadata": {
        "id": "zeBoPK8Xu14p"
      },
      "source": [
        "cap = cv2.VideoCapture(0)\n",
        "\n",
        "## Setup mediapipe instance\n",
        "with mp_pose.Pose(min_detection_confidence=0.5, min_tracking_confidence=0.5) as pose:\n",
        "    while cap.isOpened():\n",
        "        ret, frame = cap.read()\n",
        "        \n",
        "        # Recolor image to RGB\n",
        "        image = cv2.cvtColor(frame, cv2.COLOR_BGR2RGB)\n",
        "        image.flags.writeable = False\n",
        "      \n",
        "        # Make detection\n",
        "        results = pose.process(image)\n",
        "    \n",
        "        # Recolor back to BGR\n",
        "        image.flags.writeable = True\n",
        "        image = cv2.cvtColor(image, cv2.COLOR_RGB2BGR)\n",
        "        \n",
        "        # Extract landmarks\n",
        "        try:\n",
        "            landmarks = results.pose_landmarks.landmark\n",
        "            print(landmarks)\n",
        "        except:\n",
        "            pass\n",
        "        \n",
        "        # Render detections\n",
        "        mp_drawing.draw_landmarks(image, results.pose_landmarks, mp_pose.POSE_CONNECTIONS,\n",
        "                                  mp_drawing.DrawingSpec(color=(245,117,66), thickness=2, circle_radius=2), \n",
        "                                  mp_drawing.DrawingSpec(color=(245,66,230), thickness=2, circle_radius=2))               \n",
        "        \n",
        "        cv2.imshow('Mediapipe Feed', image)\n",
        "\n",
        "        if cv2.waitKey(10) & 0xFF == ord('q'):\n",
        "            break\n",
        "\n",
        "    cap.release()\n",
        "    cv2.destroyAllWindows()"
      ],
      "execution_count": null,
      "outputs": []
    },
    {
      "cell_type": "code",
      "metadata": {
        "id": "d_ECnxO1u14s"
      },
      "source": [
        "for lndmrk in mp_pose.PoseLandmark:\n",
        "    print(lndmrk)"
      ],
      "execution_count": null,
      "outputs": []
    },
    {
      "cell_type": "code",
      "metadata": {
        "id": "J06FGgyqu14t"
      },
      "source": [
        "landmarks[mp_pose.PoseLandmark.LEFT_SHOULDER.value].visibility"
      ],
      "execution_count": null,
      "outputs": []
    },
    {
      "cell_type": "code",
      "metadata": {
        "id": "nNfAUYuju14u"
      },
      "source": [
        "landmarks[mp_pose.PoseLandmark.LEFT_ELBOW.value]"
      ],
      "execution_count": null,
      "outputs": []
    },
    {
      "cell_type": "code",
      "metadata": {
        "id": "JGIhkRRku14v"
      },
      "source": [
        "landmarks[mp_pose.PoseLandmark.LEFT_WRIST.value]"
      ],
      "execution_count": null,
      "outputs": []
    },
    {
      "cell_type": "markdown",
      "metadata": {
        "id": "AKMGRTENu14w"
      },
      "source": [
        "# 3. Calculate Angles"
      ]
    },
    {
      "cell_type": "code",
      "metadata": {
        "id": "ZzqkARKcu14x"
      },
      "source": [
        "def calculate_angle(a,b,c):\n",
        "    a = np.array(a) # First\n",
        "    b = np.array(b) # Mid\n",
        "    c = np.array(c) # End\n",
        "    \n",
        "    radians = np.arctan2(c[1]-b[1], c[0]-b[0]) - np.arctan2(a[1]-b[1], a[0]-b[0])\n",
        "    angle = np.abs(radians * 180.0 / np.pi)\n",
        "    \n",
        "    if angle >180.0:\n",
        "        angle = 360 - angle\n",
        "        \n",
        "    return angle "
      ],
      "execution_count": null,
      "outputs": []
    },
    {
      "cell_type": "code",
      "metadata": {
        "id": "9-vyJlU4u14y"
      },
      "source": [
        "shoulder = [landmarks[mp_pose.PoseLandmark.LEFT_SHOULDER.value].x,landmarks[mp_pose.PoseLandmark.LEFT_SHOULDER.value].y]\n",
        "elbow = [landmarks[mp_pose.PoseLandmark.LEFT_ELBOW.value].x,landmarks[mp_pose.PoseLandmark.LEFT_ELBOW.value].y]\n",
        "wrist = [landmarks[mp_pose.PoseLandmark.LEFT_WRIST.value].x,landmarks[mp_pose.PoseLandmark.LEFT_WRIST.value].y]"
      ],
      "execution_count": null,
      "outputs": []
    },
    {
      "cell_type": "code",
      "metadata": {
        "id": "PHAa3Jyju14z"
      },
      "source": [
        "shoulder, elbow, wrist"
      ],
      "execution_count": null,
      "outputs": []
    },
    {
      "cell_type": "code",
      "metadata": {
        "id": "fRc0KuNTu14z"
      },
      "source": [
        "calculate_angle(shoulder, elbow, wrist)"
      ],
      "execution_count": null,
      "outputs": []
    },
    {
      "cell_type": "code",
      "metadata": {
        "id": "9bd9UW7Ju140"
      },
      "source": [
        "tuple(np.multiply(elbow, [640, 480]).astype(int))"
      ],
      "execution_count": null,
      "outputs": []
    },
    {
      "cell_type": "code",
      "metadata": {
        "id": "sFUtZZNqu141"
      },
      "source": [
        "cap = cv2.VideoCapture(0)\n",
        "## Setup mediapipe instance\n",
        "with mp_pose.Pose(min_detection_confidence=0.5, min_tracking_confidence=0.5) as pose:\n",
        "    while cap.isOpened():\n",
        "        ret, frame = cap.read()\n",
        "        \n",
        "        # Recolor image to RGB\n",
        "        image = cv2.cvtColor(frame, cv2.COLOR_BGR2RGB)\n",
        "        image.flags.writeable = False\n",
        "      \n",
        "        # Make detection\n",
        "        results = pose.process(image)\n",
        "    \n",
        "        # Recolor back to BGR\n",
        "        image.flags.writeable = True\n",
        "        image = cv2.cvtColor(image, cv2.COLOR_RGB2BGR)\n",
        "        \n",
        "        # Extract landmarks\n",
        "        try:\n",
        "            landmarks = results.pose_landmarks.landmark\n",
        "            \n",
        "            # Get coordinates\n",
        "            shoulder = [landmarks[mp_pose.PoseLandmark.LEFT_SHOULDER.value].x,landmarks[mp_pose.PoseLandmark.LEFT_SHOULDER.value].y]\n",
        "            elbow = [landmarks[mp_pose.PoseLandmark.LEFT_ELBOW.value].x,landmarks[mp_pose.PoseLandmark.LEFT_ELBOW.value].y]\n",
        "            wrist = [landmarks[mp_pose.PoseLandmark.LEFT_WRIST.value].x,landmarks[mp_pose.PoseLandmark.LEFT_WRIST.value].y]\n",
        "            \n",
        "            # Calculate angle\n",
        "            angle = calculate_angle(shoulder, elbow, wrist)\n",
        "            angle = round(angle, 2)\n",
        "            \n",
        "            # Visualize angle\n",
        "            cv2.putText(image, str(angle), \n",
        "                        tuple(np.multiply(elbow, [640, 480]).astype(int)), \n",
        "                        cv2.FONT_HERSHEY_SIMPLEX, 0.5, (255, 255, 255), 2, cv2.LINE_AA)     \n",
        "        except:\n",
        "            pass\n",
        "        \n",
        "        # Render detections\n",
        "        mp_drawing.draw_landmarks(image, results.pose_landmarks, mp_pose.POSE_CONNECTIONS,\n",
        "                                  mp_drawing.DrawingSpec(color=(245,117,66), thickness=2, circle_radius=2), \n",
        "                                  mp_drawing.DrawingSpec(color=(245,66,230), thickness=2, circle_radius=2))               \n",
        "        \n",
        "        cv2.imshow('Mediapipe Feed', image)\n",
        "\n",
        "        if cv2.waitKey(10) & 0xFF == ord('q'):\n",
        "            break\n",
        "\n",
        "    cap.release()\n",
        "    cv2.destroyAllWindows()"
      ],
      "execution_count": null,
      "outputs": []
    },
    {
      "cell_type": "markdown",
      "metadata": {
        "id": "PeV1Tfwau142"
      },
      "source": [
        "# 4. Curl Counter"
      ]
    },
    {
      "cell_type": "code",
      "metadata": {
        "id": "8_yN-4omu143"
      },
      "source": [
        "cap = cv2.VideoCapture(0)\n",
        "\n",
        "# Curl counter variables\n",
        "counter = 0 \n",
        "stage = None\n",
        "\n",
        "## Setup mediapipe instance\n",
        "with mp_pose.Pose(min_detection_confidence=0.5, min_tracking_confidence=0.5) as pose:\n",
        "    while cap.isOpened():\n",
        "        ret, frame = cap.read()\n",
        "        \n",
        "        # Recolor image to RGB\n",
        "        image = cv2.cvtColor(frame, cv2.COLOR_BGR2RGB)\n",
        "        image.flags.writeable = False\n",
        "      \n",
        "        # Make detection\n",
        "        results = pose.process(image)\n",
        "    \n",
        "        # Recolor back to BGR\n",
        "        image.flags.writeable = True\n",
        "        image = cv2.cvtColor(image, cv2.COLOR_RGB2BGR)\n",
        "        \n",
        "        # Extract landmarks\n",
        "        try:\n",
        "            landmarks = results.pose_landmarks.landmark\n",
        "            \n",
        "            # Get coordinates\n",
        "            shoulder = [landmarks[mp_pose.PoseLandmark.LEFT_SHOULDER.value].x,landmarks[mp_pose.PoseLandmark.LEFT_SHOULDER.value].y]\n",
        "            elbow = [landmarks[mp_pose.PoseLandmark.LEFT_ELBOW.value].x,landmarks[mp_pose.PoseLandmark.LEFT_ELBOW.value].y]\n",
        "            wrist = [landmarks[mp_pose.PoseLandmark.LEFT_WRIST.value].x,landmarks[mp_pose.PoseLandmark.LEFT_WRIST.value].y]\n",
        "            \n",
        "            # Calculate angle\n",
        "            angle = calculate_angle(shoulder, elbow, wrist)\n",
        "            angle = round(angle, 2)\n",
        "            \n",
        "            # Visualize angle\n",
        "            cv2.putText(image, str(angle), \n",
        "                        tuple(np.multiply(elbow, [640, 480]).astype(int)), \n",
        "                        cv2.FONT_HERSHEY_SIMPLEX, 0.5, (255, 255, 255), 2, cv2.LINE_AA)\n",
        "            \n",
        "            # Curl counter logic\n",
        "            if angle > 160:\n",
        "                stage = \"down\"\n",
        "            if angle < 30 and stage =='down':\n",
        "                stage=\"up\"\n",
        "                counter += 1\n",
        "                print(counter)\n",
        "                       \n",
        "        except:\n",
        "            pass\n",
        "        \n",
        "        # Render curl counter\n",
        "        # Setup status box\n",
        "        cv2.rectangle(image, (0,0), (225,73), (245,117,16), -1)\n",
        "        \n",
        "        # Rep data\n",
        "        cv2.putText(image, 'REPS', (15,12), \n",
        "                    cv2.FONT_HERSHEY_SIMPLEX, 0.5, (0,0,0), 1, cv2.LINE_AA)\n",
        "        cv2.putText(image, str(counter), \n",
        "                    (10,60), \n",
        "                    cv2.FONT_HERSHEY_SIMPLEX, 2, (255,255,255), 2, cv2.LINE_AA)\n",
        "        \n",
        "        # Stage data\n",
        "        cv2.putText(image, 'STAGE', (65,12), \n",
        "                    cv2.FONT_HERSHEY_SIMPLEX, 0.5, (0,0,0), 1, cv2.LINE_AA)\n",
        "        cv2.putText(image, stage, \n",
        "                    (60,60), \n",
        "                    cv2.FONT_HERSHEY_SIMPLEX, 2, (255,255,255), 2, cv2.LINE_AA)\n",
        "        \n",
        "        \n",
        "        # Render detections\n",
        "        mp_drawing.draw_landmarks(image, results.pose_landmarks, mp_pose.POSE_CONNECTIONS,\n",
        "                                mp_drawing.DrawingSpec(color=(245,117,66), thickness=2, circle_radius=2), \n",
        "                                mp_drawing.DrawingSpec(color=(245,66,230), thickness=2, circle_radius=2) \n",
        "                                 )               \n",
        "        \n",
        "        cv2.imshow('Mediapipe Feed', image)\n",
        "\n",
        "        if cv2.waitKey(10) & 0xFF == ord('q'):\n",
        "            break\n",
        "\n",
        "    cap.release()\n",
        "    cv2.destroyAllWindows()"
      ],
      "execution_count": null,
      "outputs": []
    },
    {
      "cell_type": "code",
      "metadata": {
        "id": "Gzdneznnu145"
      },
      "source": [
        ""
      ],
      "execution_count": null,
      "outputs": []
    }
  ]
}